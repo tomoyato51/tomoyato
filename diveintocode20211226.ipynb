{
  "nbformat": 4,
  "nbformat_minor": 0,
  "metadata": {
    "colab": {
      "name": "diveintocode20211226.ipynb",
      "provenance": [],
      "authorship_tag": "ABX9TyPT9izxXdsn8WmOT99lJjOM",
      "include_colab_link": true
    },
    "kernelspec": {
      "name": "python3",
      "display_name": "Python 3"
    },
    "language_info": {
      "name": "python"
    }
  },
  "cells": [
    {
      "cell_type": "markdown",
      "metadata": {
        "id": "view-in-github",
        "colab_type": "text"
      },
      "source": [
        "<a href=\"https://colab.research.google.com/github/tomoyato51/tomoyato/blob/master/diveintocode20211226.ipynb\" target=\"_parent\"><img src=\"https://colab.research.google.com/assets/colab-badge.svg\" alt=\"Open In Colab\"/></a>"
      ]
    },
    {
      "cell_type": "code",
      "execution_count": null,
      "metadata": {
        "id": "yfz2mgJJl8Nc"
      },
      "outputs": [],
      "source": [
        ""
      ]
    }
  ]
}